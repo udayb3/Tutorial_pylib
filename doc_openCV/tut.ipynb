{
 "cells": [
  {
   "cell_type": "markdown",
   "metadata": {},
   "source": [
    "# Computer Vision Tutorial"
   ]
  },
  {
   "cell_type": "markdown",
   "metadata": {},
   "source": [
    "- ### Computer vision is an application of deep learning which derives information from medium files( images and videos ).\n",
    "- ### OpenCV library is computer vision library available in python, cpp and java. \n",
    "\n",
    "- #### Index\n",
    "  - Reading images and videos\n",
    "  - Image transformations\n",
    "  - Drawing Shapes\n",
    "  - Putting texts\n",
    "  - Color spaces\n",
    "  - Bitwise Operations\n",
    "  - Masking\n",
    "  - Histogram Computation\n",
    "  - Edge Detection\n",
    "  - Thresholding\n",
    "  - Face Detection\n",
    "  - Face Recognition "
   ]
  },
  {
   "cell_type": "code",
   "execution_count": 2,
   "metadata": {},
   "outputs": [],
   "source": [
    "import numpy as np\n",
    "import cv2 as cv"
   ]
  },
  {
   "cell_type": "markdown",
   "metadata": {},
   "source": [
    "## Reading"
   ]
  },
  {
   "cell_type": "markdown",
   "metadata": {},
   "source": [
    "### _Reading image_"
   ]
  },
  {
   "cell_type": "markdown",
   "metadata": {},
   "source": [
    "\n",
    "- `imread()` method\n",
    "  - It takes in the path in the `filename` argument and return a matrix type of representation of the rgb values of the image.\n",
    "\n",
    "- The kernel usually crashes due to using the imshow function, `\\x1b` is the name for the pointer to the Esc key. On pressing it, the image window is closed as it is linked with `cv.waitKey(0) & 0xFF` command \n",
    "  > ord('\\x1b')=27\n",
    "- There are many attributes of the _frame_ object:\n",
    "  - shape[ndarray]: The first index is the height, 2nd is the width  "
   ]
  },
  {
   "cell_type": "code",
   "execution_count": 5,
   "metadata": {},
   "outputs": [
    {
     "name": "stdout",
     "output_type": "stream",
     "text": [
      "<class 'numpy.ndarray'>\n"
     ]
    }
   ],
   "source": [
    "# Use \n",
    "win1= 'Akira kurosawa'\n",
    "\n",
    "img= cv.imread('data/images/video1.jpg')\n",
    "cv.imshow( win1, img )\n",
    "ky= cv.waitKey(0) & 0xFF\n",
    "\n",
    "# This is done to avoid the crashing the kernel, \\x1b is sort of pointer to the Esc key. On pressing it, the image window is closed\n",
    "if ky == ord('\\x1b'):\n",
    "  cv.destroyWindow(win1)\n"
   ]
  },
  {
   "cell_type": "markdown",
   "metadata": {},
   "source": [
    "### _Reading Video_"
   ]
  },
  {
   "cell_type": "markdown",
   "metadata": {},
   "source": [
    "- #### We read video frame by frame using a while loop.\n",
    "\n",
    "- #### `VideoCapture` class is used to get an instance of video.\n",
    "\n",
    "- #### `while` loop is used to iterate over the frames of the video and the operations performed are as follows:\n",
    "  - First reading the video frame using the method `read` of the `VideoCapture` instance.\n",
    "  - Then, displaying the frame using the `imshow` method.\n",
    "  - Using the `waitKey` method to set a delay time and using the `ord` method to connect with the key locations. \n"
   ]
  },
  {
   "cell_type": "code",
   "execution_count": 3,
   "metadata": {},
   "outputs": [],
   "source": [
    "video= cv.VideoCapture('data/videos/video1.mp4')\n",
    "while (True):\n",
    "  \n",
    "  # Reading each frame and then showing it with the help of image show method\n",
    "  isTrue, frame= video.read()\n",
    "  cv.imshow('Akira Kurosawa', frame)\n",
    "\n",
    "  # Using waitKey for delay and 0xFF for the pressing of letter d with the help of key pointer function ord\n",
    "  if( (cv.waitKey(20) & 0xFF)==ord('\\x1b') ):\n",
    "    break\n",
    "\n",
    "video.release()\n",
    "cv.destroyAllWindows()"
   ]
  },
  {
   "cell_type": "markdown",
   "metadata": {},
   "source": [
    "### _Rescaling_: It implies to change the height and width of the video/image.\n",
    "\n",
    "- This works on all 3 types of input: _image_, _video_ and _live capture_."
   ]
  },
  {
   "cell_type": "code",
   "execution_count": 4,
   "metadata": {},
   "outputs": [],
   "source": [
    "img2= cv.imread('data/images/video1.jpg')\n",
    "\n",
    "# Function for rescaling: Frame.shape[0] is the height of the image/video whereas Frame.shape[1] is the width of the image/video.\n",
    "def rescale_frame(Frame, Scale=0.75):\n",
    "  \"\"\"_summary_\n",
    "    Type \n",
    "  \n",
    "    Args:\n",
    "      Frame (_type_): _description_\n",
    "      Scale (_type_): _description_\n",
    "\n",
    "  Returns:\n",
    "      _type_: _description_\n",
    "  \"\"\"\n",
    "\n",
    "\n",
    "  width= int( Frame.shape[1] * Scale )\n",
    "  height= int( Frame.shape[0] * Scale ) \n",
    "  \n",
    "  new_dim= (width , height)\n",
    "  return cv.resize(Frame, new_dim, interpolation= cv.INTER_AREA )\n",
    "\n",
    "# Rescaling the image and showing\n",
    "img3= rescale_frame(img2 , 0.75)\n",
    "cv.imshow( 'Kurosawa',img3)\n",
    "\n",
    "# Saving jupyter kernel from being crashing\n",
    "ky= cv.waitKey( 0 ) & 0xFF\n",
    "if ( ky==ord('\\x1b') ):\n",
    "  cv.destroyAllWindows()"
   ]
  },
  {
   "cell_type": "markdown",
   "metadata": {},
   "source": [
    "### _Drawing_  "
   ]
  },
  {
   "cell_type": "markdown",
   "metadata": {},
   "source": [
    "- #### We can draw on both a black image or an image selected by us:\n",
    "\n",
    "- #### Basic coloring can be done by knowing the pixel values: (b,g,r) is the format for intensity of blue, green and red color\n",
    "\n",
    "- #### For creating custom shapes there are methods for different shapes:\n",
    "  - .rectangle_: It can be drawn by passing image name, coordinates of opposite corners, color, transparent/colored from inside by using the arguement thickness(-1)\n",
    "  - _.circle_:  It is similar to rectangle with arg as _image name_, _centre_, _radius in pixels_, _color(bgr)_ and _thickness_.\n",
    "  - _.line_\n",
    "  - _.putText_  \n"
   ]
  },
  {
   "cell_type": "code",
   "execution_count": 4,
   "metadata": {},
   "outputs": [],
   "source": [
    "\"\"\" Creating the numpy 3 dimensional array of width 500 px X 500 px \"\"\"\n",
    "# blan= np.zeros((500, 500, 3), dtype='uint8')\n",
    "# cv.imshow('Blank', blan)\n",
    "\n",
    "\"\"\" Painting the image of certain color \"\"\" \n",
    "# blan[200:300,400:450]= 0,255,0\n",
    "# cv.imshow('Green', blan) \n",
    "\n",
    "\"\"\" Drawing a rectangle   \"\"\"\n",
    "# cv.rectangle(blan, (0,0), (135,135), (0,0,255), thickness=2)  # the rectangle can be filled by giving thickness value to be cv.FILLED/-1\n",
    "# cv.imshow('Rectangle',blan)\n",
    "\n",
    "\"\"\"  Drawing Circle \"\"\"\n",
    "# cv.circle(blan, (blan.shape[1]//2, blan.shape[0]//2), 30, (255, 0, 0), thickness=-1) # arguments: (image, centre coordinates, radius size, color(bgr tuple), thickness) \n",
    "# cv.imshow('Circle', blan)\n",
    "\n",
    "\"\"\"  Drawing Line \"\"\"\n",
    "# cv.line(blan, (0,0), (100,100), (0,255,0), thickness=2)\n",
    "# cv.imshow('Line', blan)\n",
    "\n",
    "\"\"\" Writing text on the image \"\"\"\n",
    "# cv.putText(blan, 'Hi, My name is Uday', (30,200), cv.FONT_HERSHEY_TRIPLEX, 0.8,  (0,255,0), thickness=2) # ARG: (image name, Text, starting spot, font type(from cv options), font scale, color, thickness)\n",
    "# cv.imshow('Final', blan)\n",
    "\n",
    "# ky= cv.waitKey( 0 ) & 0xFF\n",
    "# if ( ky==ord('\\x1b') ):\n",
    "  # cv.destroyAllWindows()"
   ]
  },
  {
   "cell_type": "markdown",
   "metadata": {},
   "source": [
    "### Some Common functions"
   ]
  },
  {
   "cell_type": "markdown",
   "metadata": {},
   "source": [
    "\n",
    "- Converting to grayscale\n",
    "- Applying Gaussian Blur\n",
    "- Edge Cascading\n",
    "- Dilating\n",
    "- Eroding\n",
    "- Resizing and Cropping \n"
   ]
  },
  {
   "cell_type": "code",
   "execution_count": 5,
   "metadata": {},
   "outputs": [],
   "source": [
    "# img1= cv.imread('data/Photos/park.jpg')\n",
    "# cv.imshow('Cat',img1)\n",
    "\n",
    "\"\"\" Converting image to Gray Scale \"\"\"\n",
    "# gimg1= cv.cvtColor(img1, cv.COLOR_BGR2GRAY) # ARG: (image object, Color code[Coversion code])\n",
    "# cv.imshow('Gray Cat', gimg1)\n",
    "\n",
    "\"\"\" Applying Gaussian Blur\"\"\"\n",
    "# blur= cv.GaussianBlur(img1, (3,3), cv.BORDER_DEFAULT) # ARG: (image object, kernel size, option) \n",
    "# cv.imshow('Blur-image', blur)\n",
    "\n",
    "# blur2= cv.GaussianBlur(img1, (7,7), cv.BORDER_DEFAULT) # Blur can be increased by increasing kernel size \n",
    "# cv.imshow('Blur-image', blur2)\n",
    "\n",
    "\"\"\" Edge Cascading: Trying to find the edges present in the image. Canny edging is used here. \"\"\"\n",
    "# canny= cv.Canny(blur2, 125, 175) # We can reduce the number of canny edges by using the blur instead of original image\n",
    "# cv.imshow('Canny Edge', canny)\n",
    "\n",
    "\"\"\" Dilating the image[using the edges as the structuring element] \"\"\"\n",
    "# dil= cv.dilate(canny, (7,7), iterations=3)\n",
    "# cv.imshow(\"Dilated\", dil)\n",
    "\n",
    "\"\"\" Eroding the dilated image \"\"\"\n",
    "# erd= cv.erode(dil, (3,3), iterations=1)\n",
    "# cv.imshow(\"Eroded-image\", erd)\n",
    "\n",
    "\"\"\" Resizing and Cropping an image \"\"\"\n",
    "# res= cv.resize(img1, (500,500)) # The default interpolation method is cv.INTER_AREA[suited for shrinking an image to lower dimension, other options: INTER_LINEAR, INTER_CUBIC ]\n",
    "# cv.imshow(\"Resized\", res)\n",
    "\n",
    "# crp= img1[100:500, 100:300]\n",
    "# cv.imshow(\"Cropped\", crp)\n",
    "\n",
    "# ky= cv.waitKey( 0 ) & 0xFF\n",
    "# if ( ky==ord('\\x1b') ):\n",
    "#   cv.destroyAllWindows()"
   ]
  },
  {
   "cell_type": "markdown",
   "metadata": {},
   "source": [
    "## Image Transformations"
   ]
  },
  {
   "cell_type": "code",
   "execution_count": null,
   "metadata": {},
   "outputs": [],
   "source": []
  }
 ],
 "metadata": {
  "kernelspec": {
   "display_name": "pyvenv",
   "language": "python",
   "name": "python3"
  },
  "language_info": {
   "codemirror_mode": {
    "name": "ipython",
    "version": 3
   },
   "file_extension": ".py",
   "mimetype": "text/x-python",
   "name": "python",
   "nbconvert_exporter": "python",
   "pygments_lexer": "ipython3",
   "version": "3.12.2"
  }
 },
 "nbformat": 4,
 "nbformat_minor": 2
}
