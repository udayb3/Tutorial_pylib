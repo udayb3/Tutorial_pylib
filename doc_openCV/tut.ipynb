{
 "cells": [
  {
   "cell_type": "markdown",
   "metadata": {},
   "source": [
    "# Computer Vision Tutorial"
   ]
  },
  {
   "cell_type": "markdown",
   "metadata": {},
   "source": [
    "- ### Computer vision is an application of deep learning which derives information from medium files( images and videos ).\n",
    "- ### OpenCV library is computer vision library available in python, cpp and java. \n",
    "\n",
    "- #### Index\n",
    "  - Reading images and videos\n",
    "  - Image transformations\n",
    "  - Drawing Shapes\n",
    "  - Putting texts\n",
    "  - Color spaces\n",
    "  - Bitwise Operations\n",
    "  - Masking\n",
    "  - Histogram Computation\n",
    "  - Edge Detection\n",
    "  - Thresholding\n",
    "  - Face Detection\n",
    "  - Face Recognition "
   ]
  },
  {
   "cell_type": "code",
   "execution_count": 7,
   "metadata": {},
   "outputs": [],
   "source": [
    "import cv2 as cv"
   ]
  },
  {
   "cell_type": "markdown",
   "metadata": {},
   "source": [
    "### _Basic_\n"
   ]
  },
  {
   "cell_type": "markdown",
   "metadata": {},
   "source": [
    "### _Reading image_\n",
    "\n",
    "- #### Image reading\n",
    "  - `imread()` method\n",
    "    - It takes in the path in the `filename` argument and return a matrix type of representation of the rgb values of the image.\n",
    "\n",
    "  - The kernel usually crashes due to using the imshow function, `\\x1b` is the name for the pointer to the Esc key. On pressing it, the image window is closed as it is linked with `cv.waitKey(0) & 0xFF` command \n",
    "    > ord('\\x1b')=27\n",
    "  - "
   ]
  },
  {
   "cell_type": "code",
   "execution_count": 16,
   "metadata": {},
   "outputs": [],
   "source": [
    "# Use \n",
    "win1= 'Akira kurosawa'\n",
    "\n",
    "img= cv.imread('data/images/video1.jpg')\n",
    "cv.imshow( win1, img )\n",
    "ky= cv.waitKey(0) & 0xFF\n",
    "\n",
    "# This is done to avoid the crashing the kernel, \\x1b is sort of pointer to the Esc key. On pressing it, the image window is closed\n",
    "if ky == ord('\\x1b'):\n",
    "  cv.destroyWindow(win1)\n"
   ]
  },
  {
   "cell_type": "markdown",
   "metadata": {},
   "source": [
    "### _Reading Video_\n",
    "\n",
    "- #### We read video frame by frame using a while loop.\n",
    "\n",
    "- #### `VideoCapture` class is the through which we get an instance of video.\n",
    "\n",
    "- #### `while` loop is used iterate over the frames of the video and the operations performed are as follows:\n",
    "  - First reading the video frame using the method `read` of the `VideoCapture` instance.\n",
    "  - Then, displaying the frame using the `imshow` method.\n",
    "  - Using the `waitKey` method to set a delay time and using the `ord` method to connect with the key locations. \n"
   ]
  },
  {
   "cell_type": "code",
   "execution_count": 13,
   "metadata": {},
   "outputs": [],
   "source": [
    "video= cv.VideoCapture('data/videos/video1.mp4')\n",
    "while (True):\n",
    "  \n",
    "  # Reading each frame and then showing it with the help of image show method\n",
    "  isTrue, frame= video.read()\n",
    "  cv.imshow('Akira Kurosawa', frame)\n",
    "\n",
    "  # Using waitKey for delay and 0xFF for the pressing of letter d with the help of key pointer function ord\n",
    "  if( (cv.waitKey(20) & 0xFF)==ord('\\x1b') ):\n",
    "    break\n",
    "\n",
    "video.release()\n",
    "cv.destroyAllWindows()"
   ]
  },
  {
   "cell_type": "markdown",
   "metadata": {},
   "source": [
    "### _Rescaling_: It implies to change the height and width of the video/image.\n",
    "\n",
    "- This is done on mainly 3 types of input: _image_, _video_ and _live capture_.\n",
    "\n",
    "-"
   ]
  },
  {
   "cell_type": "code",
   "execution_count": 17,
   "metadata": {},
   "outputs": [],
   "source": [
    "img2= cv.imread('data/images/video1.jpg')\n",
    "\n",
    "# Function for rescaling: Frame.shape[0] is the height of the image/video whereas Frame.shape[1] is the width of the image/video.\n",
    "def rescale_frame(Frame, Scale=0.75):\n",
    "  \"\"\"_summary_\n",
    "    Type \n",
    "  \n",
    "    Args:\n",
    "      Frame (_type_): _description_\n",
    "      Scale (_type_): _description_\n",
    "\n",
    "  Returns:\n",
    "      _type_: _description_\n",
    "  \"\"\"\n",
    "\n",
    "\n",
    "  width= int( Frame.shape[1] * Scale )\n",
    "  height= int( Frame.shape[0] * Scale ) \n",
    "  \n",
    "  new_dim= (width , height)\n",
    "\n",
    "  return cv.resize(Frame, new_dim, interpolation= cv.INTER_AREA )\n",
    "\n",
    "# Rescaling the image and showing\n",
    "img3= rescale_frame(img2 , 0.75)\n",
    "cv.imshow( 'Kurosawa',img3)\n",
    "\n",
    "# Saving jupyter kernel from being crashing\n",
    "ky= cv.waitKey( 0 ) & 0xFF\n",
    "if ( ky==ord('\\x1b') ):\n",
    "  cv.destroyAllWindows()"
   ]
  },
  {
   "cell_type": "markdown",
   "metadata": {},
   "source": [
    "### _Drawing_\n",
    "\n",
    "- #### There are two ways with which we can work on images:\n",
    "  "
   ]
  }
 ],
 "metadata": {
  "kernelspec": {
   "display_name": "pyvenv",
   "language": "python",
   "name": "python3"
  },
  "language_info": {
   "codemirror_mode": {
    "name": "ipython",
    "version": 3
   },
   "file_extension": ".py",
   "mimetype": "text/x-python",
   "name": "python",
   "nbconvert_exporter": "python",
   "pygments_lexer": "ipython3",
   "version": "3.12.2"
  }
 },
 "nbformat": 4,
 "nbformat_minor": 2
}
