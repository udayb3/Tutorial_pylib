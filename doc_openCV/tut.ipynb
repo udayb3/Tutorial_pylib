{
 "cells": [
  {
   "cell_type": "markdown",
   "metadata": {},
   "source": [
    "# Computer Vision Tutorial"
   ]
  },
  {
   "cell_type": "markdown",
   "metadata": {},
   "source": [
    "- ### Computer vision is an application of deep learning which derives information from medium files( images and videos ).\n",
    "- ### OpenCV library is computer vision library available in python, cpp and java. \n",
    "\n",
    "- #### Index\n",
    "  - Reading images and videos\n",
    "  - Image transformations\n",
    "  - Drawing Shapes\n",
    "  - Putting texts\n",
    "  - Color spaces\n",
    "  - Bitwise Operations\n",
    "  - Masking\n",
    "  - Histogram Computation\n",
    "  - Edge Detection\n",
    "  - Thresholding\n",
    "  - Face Detection\n",
    "  - Face Recognition "
   ]
  },
  {
   "cell_type": "code",
   "execution_count": 2,
   "metadata": {},
   "outputs": [],
   "source": [
    "import os\n",
    "import numpy as np\n",
    "import cv2 as cv\n",
    "import matplotlib.pyplot as plt"
   ]
  },
  {
   "cell_type": "markdown",
   "metadata": {},
   "source": [
    "## Reading"
   ]
  },
  {
   "cell_type": "markdown",
   "metadata": {},
   "source": [
    "### _Reading image_"
   ]
  },
  {
   "cell_type": "markdown",
   "metadata": {},
   "source": [
    "\n",
    "- `imread()` method\n",
    "  - It takes in the path in the `filename` argument and return a matrix type of representation of the rgb values of the image.\n",
    "\n",
    "- The kernel usually crashes due to using the imshow function, `\\x1b` is the name for the pointer to the Esc key. On pressing it, the image window is closed as it is linked with `cv.waitKey(0) & 0xFF` command \n",
    "  > ord('\\x1b')=27\n",
    "- There are many attributes of the _frame_ object:\n",
    "  - shape[ndarray]: The first index is the height, 2nd is the width  "
   ]
  },
  {
   "cell_type": "code",
   "execution_count": 5,
   "metadata": {},
   "outputs": [
    {
     "name": "stdout",
     "output_type": "stream",
     "text": [
      "<class 'numpy.ndarray'>\n"
     ]
    }
   ],
   "source": [
    "# Use \n",
    "win1= 'Akira kurosawa'\n",
    "\n",
    "img= cv.imread('data/images/video1.jpg')\n",
    "cv.imshow( win1, img )\n",
    "ky= cv.waitKey(0) & 0xFF\n",
    "\n",
    "# This is done to avoid the crashing the kernel, \\x1b is sort of pointer to the Esc key. On pressing it, the image window is closed\n",
    "if ky == ord('\\x1b'):\n",
    "  cv.destroyWindow(win1)\n"
   ]
  },
  {
   "cell_type": "markdown",
   "metadata": {},
   "source": [
    "### _Reading Video_"
   ]
  },
  {
   "cell_type": "markdown",
   "metadata": {},
   "source": [
    "- #### We read video frame by frame using a while loop.\n",
    "\n",
    "- #### `VideoCapture` class is used to get an instance of video.\n",
    "\n",
    "- #### `while` loop is used to iterate over the frames of the video and the operations performed are as follows:\n",
    "  - First reading the video frame using the method `read` of the `VideoCapture` instance.\n",
    "  - Then, displaying the frame using the `imshow` method.\n",
    "  - Using the `waitKey` method to set a delay time and using the `ord` method to connect with the key locations. \n"
   ]
  },
  {
   "cell_type": "code",
   "execution_count": 3,
   "metadata": {},
   "outputs": [],
   "source": [
    "video= cv.VideoCapture('data/videos/video1.mp4')\n",
    "while (True):\n",
    "  \n",
    "  # Reading each frame and then showing it with the help of image show method\n",
    "  isTrue, frame= video.read()\n",
    "  cv.imshow('Akira Kurosawa', frame)\n",
    "\n",
    "  # Using waitKey for delay and 0xFF for the pressing of letter d with the help of key pointer function ord\n",
    "  if( (cv.waitKey(20) & 0xFF)==ord('\\x1b') ):\n",
    "    break\n",
    "\n",
    "video.release()\n",
    "cv.destroyAllWindows()"
   ]
  },
  {
   "cell_type": "markdown",
   "metadata": {},
   "source": [
    "### _Rescaling_: It implies to change the height and width of the video/image.\n",
    "\n",
    "- This works on all 3 types of input: _image_, _video_ and _live capture_."
   ]
  },
  {
   "cell_type": "code",
   "execution_count": 4,
   "metadata": {},
   "outputs": [],
   "source": [
    "img2= cv.imread('data/images/video1.jpg')\n",
    "\n",
    "# Function for rescaling: Frame.shape[0] is the height of the image/video whereas Frame.shape[1] is the width of the image/video.\n",
    "def rescale_frame(Frame, Scale=0.75):\n",
    "  \"\"\"_summary_\n",
    "    Type \n",
    "  \n",
    "    Args:\n",
    "      Frame (_type_): _description_\n",
    "      Scale (_type_): _description_\n",
    "\n",
    "  Returns:\n",
    "      _type_: _description_\n",
    "  \"\"\"\n",
    "\n",
    "\n",
    "  width= int( Frame.shape[1] * Scale )\n",
    "  height= int( Frame.shape[0] * Scale ) \n",
    "  \n",
    "  new_dim= (width , height)\n",
    "  return cv.resize(Frame, new_dim, interpolation= cv.INTER_AREA )\n",
    "\n",
    "# Rescaling the image and showing\n",
    "img3= rescale_frame(img2 , 0.75)\n",
    "cv.imshow( 'Kurosawa',img3)\n",
    "\n",
    "# Saving jupyter kernel from being crashing\n",
    "ky= cv.waitKey( 0 ) & 0xFF\n",
    "if ( ky==ord('\\x1b') ):\n",
    "  cv.destroyAllWindows()"
   ]
  },
  {
   "cell_type": "markdown",
   "metadata": {},
   "source": [
    "### _Drawing_  "
   ]
  },
  {
   "cell_type": "markdown",
   "metadata": {},
   "source": [
    "- #### We can draw on both a black image or an image selected by us:\n",
    "\n",
    "- #### Basic coloring can be done by knowing the pixel values: (b,g,r) is the format for intensity of blue, green and red color\n",
    "\n",
    "- #### For creating custom shapes there are methods for different shapes:\n",
    "  - .rectangle_: It can be drawn by passing image name, coordinates of opposite corners, color, transparent/colored from inside by using the arguement thickness(-1)\n",
    "  - _.circle_:  It is similar to rectangle with arg as _image name_, _centre_, _radius in pixels_, _color(bgr)_ and _thickness_.\n",
    "  - _.line_\n",
    "  - _.putText_  \n"
   ]
  },
  {
   "cell_type": "code",
   "execution_count": 4,
   "metadata": {},
   "outputs": [],
   "source": [
    "\"\"\" Creating the numpy 3 dimensional array of width 500 px X 500 px \"\"\"\n",
    "# blan= np.zeros((500, 500, 3), dtype='uint8')\n",
    "# cv.imshow('Blank', blan)\n",
    "\n",
    "\"\"\" Painting the image of certain color \"\"\" \n",
    "# blan[200:300,400:450]= 0,255,0\n",
    "# cv.imshow('Green', blan) \n",
    "\n",
    "\"\"\" Drawing a rectangle   \"\"\"\n",
    "# cv.rectangle(blan, (0,0), (135,135), (0,0,255), thickness=2)  # the rectangle can be filled by giving thickness value to be cv.FILLED/-1\n",
    "# cv.imshow('Rectangle',blan)\n",
    "\n",
    "\"\"\"  Drawing Circle \"\"\"\n",
    "# cv.circle(blan, (blan.shape[1]//2, blan.shape[0]//2), 30, (255, 0, 0), thickness=-1) # arguments: (image, centre coordinates, radius size, color(bgr tuple), thickness) \n",
    "# cv.imshow('Circle', blan)\n",
    "\n",
    "\"\"\"  Drawing Line \"\"\"\n",
    "# cv.line(blan, (0,0), (100,100), (0,255,0), thickness=2)\n",
    "# cv.imshow('Line', blan)\n",
    "\n",
    "\"\"\" Writing text on the image \"\"\"\n",
    "# cv.putText(blan, 'Hi, My name is Uday', (30,200), cv.FONT_HERSHEY_TRIPLEX, 0.8,  (0,255,0), thickness=2) # ARG: (image name, Text, starting spot, font type(from cv options), font scale, color, thickness)\n",
    "# cv.imshow('Final', blan)\n",
    "\n",
    "# ky= cv.waitKey( 0 ) & 0xFF\n",
    "# if ( ky==ord('\\x1b') ):\n",
    "  # cv.destroyAllWindows()"
   ]
  },
  {
   "cell_type": "markdown",
   "metadata": {},
   "source": [
    "### Some Common functions"
   ]
  },
  {
   "cell_type": "markdown",
   "metadata": {},
   "source": [
    "\n",
    "- Converting to grayscale\n",
    "- Applying Gaussian Blur\n",
    "- Edge Cascading\n",
    "- Dilating\n",
    "- Eroding\n",
    "- Resizing and Cropping \n"
   ]
  },
  {
   "cell_type": "code",
   "execution_count": 5,
   "metadata": {},
   "outputs": [],
   "source": [
    "# img1= cv.imread('data/Photos/park.jpg')\n",
    "# cv.imshow('Cat',img1)\n",
    "\n",
    "\"\"\" Converting image to Gray Scale \"\"\"\n",
    "# gimg1= cv.cvtColor(img1, cv.COLOR_BGR2GRAY) # ARG: (image object, Color code[Coversion code])\n",
    "# cv.imshow('Gray Cat', gimg1)\n",
    "\n",
    "\"\"\" Applying Gaussian Blur\"\"\"\n",
    "# blur= cv.GaussianBlur(img1, (3,3), cv.BORDER_DEFAULT) # ARG: (image object, kernel size, option) \n",
    "# cv.imshow('Blur-image', blur)\n",
    "\n",
    "# blur2= cv.GaussianBlur(img1, (7,7), cv.BORDER_DEFAULT) # Blur can be increased by increasing kernel size \n",
    "# cv.imshow('Blur-image', blur2)\n",
    "\n",
    "\"\"\" Edge Cascading: Trying to find the edges present in the image. Canny edging is used here. \"\"\"\n",
    "# canny= cv.Canny(blur2, 125, 175) # We can reduce the number of canny edges by using the blur instead of original image\n",
    "# cv.imshow('Canny Edge', canny)\n",
    "\n",
    "\"\"\" Dilating the image[using the edges as the structuring element] \"\"\"\n",
    "# dil= cv.dilate(canny, (7,7), iterations=3)\n",
    "# cv.imshow(\"Dilated\", dil)\n",
    "\n",
    "\"\"\" Eroding the dilated image \"\"\"\n",
    "# erd= cv.erode(dil, (3,3), iterations=1)\n",
    "# cv.imshow(\"Eroded-image\", erd)\n",
    "\n",
    "\"\"\" Resizing and Cropping an image \"\"\"\n",
    "# res= cv.resize(img1, (500,500)) # The default interpolation method is cv.INTER_AREA[suited for shrinking an image to lower dimension, other options: INTER_LINEAR, INTER_CUBIC ]\n",
    "# cv.imshow(\"Resized\", res)\n",
    "\n",
    "# crp= img1[100:500, 100:300]\n",
    "# cv.imshow(\"Cropped\", crp)\n",
    "\n",
    "# ky= cv.waitKey( 0 ) & 0xFF\n",
    "# if ( ky==ord('\\x1b') ):\n",
    "#   cv.destroyAllWindows()"
   ]
  },
  {
   "cell_type": "markdown",
   "metadata": {},
   "source": [
    "### Image Transformations"
   ]
  },
  {
   "cell_type": "code",
   "execution_count": 12,
   "metadata": {},
   "outputs": [],
   "source": [
    "img1= cv.imread('data/Photos/cat.jpg')\n",
    "cv.imshow(\"Normal\",img1)\n",
    "\n",
    "\"\"\" Translation: Moving the image \"\"\"\n",
    "# def translation(image, x, y):\n",
    "\n",
    "#   mat_trans= np.float32([ [1,0,x], [0,1,y]  ] )       # creating the translation matrix\n",
    "#   dim= (image.shape[1], image.shape[0] )      # getting dimensions for the translated image\n",
    "#   return cv.warpAffine( image, mat_trans, dim )       # warping the image finally\n",
    "\n",
    "# tr_img= translation(img1, 100, -100)        # Centre is at top left corner with +x axis to the right and +y axis to the bottom\n",
    "# cv.imshow(\"Translated\", tr_img)\n",
    "\n",
    "\"\"\" Rotating the image \"\"\"\n",
    "# def rotate(img, ang, CoR):\n",
    "  \n",
    "#   (height, width)= img.shape[:2]\n",
    "#   if CoR is None:\n",
    "#     CoR= (width//2, height//2)\n",
    "\n",
    "#   mat_rot= cv.getRotationMatrix2D(CoR, ang, 1.0 )\n",
    "#   dim= (width, height) \n",
    "\n",
    "#   return cv.warpAffine(img, mat_rot, dim)\n",
    "\n",
    "# rot_img= rotate(img1, -90, None)    # + angle for anticlockwise and - angle for clockwise\n",
    "# cv.imshow(\"Rotated image\", rot_img)\n",
    "\n",
    "\"\"\" Resizing the image\"\"\"\n",
    "# resized= cv.resize(img1, (500,500), interpolation= cv.INTER_AREA)\n",
    "# cv.imshow(\"Resized image\", resized)\n",
    "\n",
    "\"\"\" Flipping the image\"\"\"\n",
    "# flip_img= cv.flip(img1, 1)    # 0: Flipping vertically, 1: flipping horizontally, -1: flipping both ways\n",
    "# cv.imshow(\"Flipped\", flip_img)\n",
    "\n",
    "# ky= cv.waitKey( 0 ) & 0xFF\n",
    "# if ( ky==ord('\\x1b') ):\n",
    "#   cv.destroyAllWindows()"
   ]
  },
  {
   "cell_type": "markdown",
   "metadata": {},
   "source": [
    "### Contour Detection "
   ]
  },
  {
   "cell_type": "markdown",
   "metadata": {},
   "source": [
    "- #### Contours are curves joining all continuous points having same intensity/color(Can be used in shape analysis, object detection).\n",
    "\n",
    "- #### There is also the method `drawContours` which can be used to draw contours on the image."
   ]
  },
  {
   "cell_type": "code",
   "execution_count": 4,
   "metadata": {},
   "outputs": [
    {
     "name": "stdout",
     "output_type": "stream",
     "text": [
      "<class 'float'>\n",
      "1138\n"
     ]
    }
   ],
   "source": [
    "img1= cv.imread('data/Photos/park.jpg')\n",
    "cv.imshow('Org', img1)\n",
    "\n",
    "gimg= cv.cvtColor(img1, cv.COLOR_BGR2GRAY)\n",
    "# cv.imshow('Gray', gimg)\n",
    "\n",
    "\"\"\" 1. Here, Gaussian blur reduces the noise, using the canny edge technique, it reduces the number of contours which will appear later.\"\"\"\n",
    "# bimg= cv.GaussianBlur(gimg, (5,5), cv.BORDER_DEFAULT)\n",
    "# cv.imshow('Blur', bimg)\n",
    "\n",
    "# canny= cv.Canny(bimg, 124, 174)\n",
    "# cv.imshow(\"Canny Edges\", canny)\n",
    "\n",
    "\"\"\" 2. Threshold technique: It binarises the pixel. so if it is below 125, it is lead to 0(black) \"\"\"\n",
    "ret, thresh= cv.threshold( gimg, 125, 255, cv.THRESH_BINARY )\n",
    "cv.imshow(\"Threshold\", thresh)\n",
    "\n",
    "\"\"\" It looks at the structuring element i.e. edges found and returns two values: contours[list of coordinates of contours found] and heirarchies[refers to heirarchial representation of contours ] \"\"\"\n",
    "contours, heirarchy= cv.findContours(thresh, cv.RETR_LIST, cv.CHAIN_APPROX_NONE )   # RETR_LIST: returns all contours, RETR_EXTERNAL: returns external contours, RETR_TREE: returns all heirarchial contours. CHAIN_APPROX is method through which we are approximating the contours[NONE, SIMPLE]\n",
    "print(len(contours))\n",
    "\n",
    "ky= cv.waitKey(0) & 0XFF\n",
    "if ky==ord('\\x1b'):\n",
    "  cv.destroyAllWindows()"
   ]
  },
  {
   "cell_type": "markdown",
   "metadata": {},
   "source": [
    "### Colorspaces"
   ]
  },
  {
   "cell_type": "markdown",
   "metadata": {},
   "source": [
    "- #### opencv default's colorspace of reading is bgr. Compared to other libraries such as matplotlib which use RGB format, it is different and has functions which help in doing the conversion.\n",
    "\n",
    "- #### The following Colorspace are available and their respective coversions too\n",
    "  - BGR(default)\n",
    "  - RGB\n",
    "  - GrayScale\n",
    "  - LAB\n",
    "  - HSV(Hue Saturation Value)"
   ]
  },
  {
   "cell_type": "code",
   "execution_count": 5,
   "metadata": {},
   "outputs": [],
   "source": [
    "# img1= cv.imread('data/Photos/park.jpg')\n",
    "# cv.imshow('Org', img1)\n",
    "\n",
    "\"\"\" BGR to grayscale \"\"\"\n",
    "# gimg1= cv.cvtColor(img1, cv.COLOR_BGR2GRAY)\n",
    "# cv.imshow('Gray', gimg1)\n",
    "\n",
    "\"\"\" BGR to HSV\"\"\"\n",
    "# himg1= cv.cvtColor(img1, cv.COLOR_BGR2HSV )     # Hue Saturation Value\n",
    "# cv.imshow('HSV', himg1)\n",
    "\n",
    "\"\"\" BGR to LAV\"\"\"\n",
    "# limg1= cv.cvtColor(img1, cv.COLOR_BGR2LAB)\n",
    "# cv.imshow('LAB', limg1)\n",
    "\n",
    "\"\"\" BGR to RGB\"\"\"\n",
    "# cimg1= cv.cvtColor(img1, cv.COLOR_BGR2RGB )\n",
    "# cv.imshow('RGB', cimg1)\n",
    "\n",
    "# ky= cv.waitKey(0) & 0XFF\n",
    "# if(ky==ord('\\x1b')):\n",
    "  # cv.destroyAllWindows()"
   ]
  },
  {
   "cell_type": "markdown",
   "metadata": {},
   "source": [
    "### Color Channels"
   ]
  },
  {
   "cell_type": "markdown",
   "metadata": {},
   "source": [
    "- #### Channels are Red, Green and Blue."
   ]
  },
  {
   "cell_type": "code",
   "execution_count": 10,
   "metadata": {},
   "outputs": [],
   "source": [
    "# img1= cv.imread('data/Photos/park.jpg')\n",
    "# cv.imshow('Org',img1)\n",
    "\n",
    "\"\"\" Splitting the image in its three color channels\"\"\"\n",
    "# b,g,r= cv.split(img1)\n",
    "# cv.imshow('Blue',b)\n",
    "# cv.imshow('Green',g)\n",
    "# cv.imshow('Red',r)\n",
    "\n",
    "\"\"\" Merging the b, g,r color channels, we can get the previous image back\"\"\"\n",
    "# merge= cv.merge([g,b,r])\n",
    "# cv.imshow('Merge', merge)\n",
    "\n",
    "# ky= cv.waitKey(0) & 0XFF\n",
    "# if(ky==ord('\\x1b')):\n",
    "  # cv.destroyAllWindows()"
   ]
  },
  {
   "cell_type": "markdown",
   "metadata": {},
   "source": [
    "### Blurring Techniques"
   ]
  },
  {
   "cell_type": "markdown",
   "metadata": {},
   "source": [
    "- #### We blur an image mostly when there is a lot of noise(caused due to camera sensors, problems in lighting) in the image.\n",
    "\n",
    "- #### Blur means creating a kernel of size nXn[n is odd], and some operation is applied on the middle pixel due to the pixels surrounding it.\n",
    "\n",
    "- #### There are many Blurring techniques:\n",
    "  - Gaussian Blur(most Popular one)\n",
    "  - "
   ]
  },
  {
   "cell_type": "code",
   "execution_count": 2,
   "metadata": {},
   "outputs": [
    {
     "name": "stderr",
     "output_type": "stream",
     "text": [
      "Warning: Ignoring XDG_SESSION_TYPE=wayland on Gnome. Use QT_QPA_PLATFORM=wayland to run on Wayland anyway.\n"
     ]
    }
   ],
   "source": [
    "# img1= cv.imread('data/Photos/park.jpg')\n",
    "# cv.imshow('Org', img1)\n",
    "\n",
    "\"\"\" Averaging: Pixel intensity will be the average of all the pixel intensities of the pixels around it \"\"\"\n",
    "# avg= cv.blur(img1, (3,3))\n",
    "# cv.imshow('Blur: Average', avg)\n",
    "\n",
    "\"\"\" Gaussian Blur: Each surrounding pixel is given a particular weight and then the sum is done\"\"\"\n",
    "# gau= cv.GaussianBlur(img1, (3,3), 0)\n",
    "# cv.imshow('Blur: Gaussian', gau)\n",
    "\n",
    "\"\"\" Median Blur\"\"\"\n",
    "# med= cv.medianBlur(img1, 3)\n",
    "# cv.imshow('Blur: Median', med)\n",
    "\n",
    "\"\"\" Bilateral Blurring\"\"\"\n",
    "# bil= cv.bilateralFilter(img1, 5,  15, 15)\n",
    "# cv.imshow('Blur: Bilateral', bil)\n",
    "\n",
    "# ky= cv.waitKey(0) & 0XFF\n",
    "# if(ky==ord('\\x1b')):\n",
    "  # cv.destroyAllWindows()"
   ]
  },
  {
   "cell_type": "markdown",
   "metadata": {},
   "source": [
    "### Bitwise Operations"
   ]
  },
  {
   "cell_type": "markdown",
   "metadata": {},
   "source": [
    "- #### (and, or, xor, not). They are used extensively in image processing[masking] "
   ]
  },
  {
   "cell_type": "code",
   "execution_count": 8,
   "metadata": {},
   "outputs": [],
   "source": [
    "# blank= np.zeros( (400,400), dtype='uint8')\n",
    "\n",
    "# rec= cv.rectangle( blank.copy(), (30,30), (370,370), 255, -1)\n",
    "# cir= cv.circle( blank.copy(), (200,200), 200, 255, -1)\n",
    "\n",
    "# cv.imshow('Rectangle',rec)\n",
    "# cv.imshow('Circle',cir)\n",
    "\n",
    "\"\"\" bitwise AND: displays the intersecting region \"\"\"\n",
    "# nd= cv.bitwise_and(rec, cir)\n",
    "# cv.imshow(\"bitwise and\", nd)\n",
    "\n",
    "\"\"\" bitwise OR: returns the union of regions\"\"\"\n",
    "# bitor= cv.bitwise_or(rec, cir)\n",
    "# cv.imshow('bitwise OR',bitor)\n",
    "\n",
    "\"\"\" bitwise XOR: returns non-intersecting regions \"\"\"\n",
    "# bitxor= cv.bitwise_xor(rec, cir)\n",
    "# cv.imshow('bitwise XOR', bitxor)\n",
    "\n",
    "\"\"\" bitwise NOR: Applies nor to the region \"\"\"\n",
    "# bitnor= cv.bitwise_not(cir)\n",
    "# cv.imshow('bitwise nor', bitnor)\n",
    "\n",
    "# ky= cv.waitKey(0) & 0XFF\n",
    "# if( ky==ord('\\x1b')):\n",
    "# \n",
    "  # cv.destroyAllWindows()"
   ]
  },
  {
   "cell_type": "markdown",
   "metadata": {},
   "source": [
    "### Masking"
   ]
  },
  {
   "cell_type": "markdown",
   "metadata": {},
   "source": [
    "- #### It allows us to focus on certain part of images."
   ]
  },
  {
   "cell_type": "code",
   "execution_count": 2,
   "metadata": {},
   "outputs": [
    {
     "name": "stderr",
     "output_type": "stream",
     "text": [
      "Warning: Ignoring XDG_SESSION_TYPE=wayland on Gnome. Use QT_QPA_PLATFORM=wayland to run on Wayland anyway.\n"
     ]
    }
   ],
   "source": [
    "# img1= cv.imread('data/Photos/cats.jpg')\n",
    "# cv.imshow('Org', img1)\n",
    "\n",
    "\"\"\" Creating a mask in the form of circle\"\"\"\n",
    "# blank= np.zeros( img1.shape[:2], dtype='uint8' )\n",
    "# mask= cv.circle(blank, (img1.shape[1]//2 +100, img1.shape[0]//2), 100, 255, -1)\n",
    "# cv.imshow(\"Mask\", mask)\n",
    "\n",
    "# masked= cv.bitwise_and(img1, img1, mask=mask)\n",
    "# cv.imshow(\"masked\",masked)\n",
    "\n",
    "\"\"\"\"\"\"\n",
    "# ky= cv.waitKey(0) & 0XFF\n",
    "# if(ky==ord('\\x1b')):\n",
    "  # cv.destroyAllWindows()\n",
    "# "
   ]
  },
  {
   "cell_type": "markdown",
   "metadata": {},
   "source": [
    "### Computing Histograms"
   ]
  },
  {
   "cell_type": "markdown",
   "metadata": {},
   "source": [
    "- #### It allows us to visualized the visual intensity distribution in the images."
   ]
  },
  {
   "cell_type": "code",
   "execution_count": 6,
   "metadata": {},
   "outputs": [
    {
     "data": {
      "image/png": "[encoded data removed]",
      "text/plain": [
       "<Figure size 640x480 with 1 Axes>"
      ]
     },
     "metadata": {},
     "output_type": "display_data"
    }
   ],
   "source": [
    "# img1= cv.imread( \"data/Photos/cats 2.jpg\" )\n",
    "# cv.imshow( \"Org\", img1)\n",
    "# \n",
    "\"\"\" \n",
    "1. Below, we have used the histogram function to get the histogram of intensities[can be done manually too]. \n",
    "2. Masking can also be applied in this function to get the intensity histogram for a specific area in the photo.\n",
    "\"\"\"\n",
    "# \n",
    "# gimg1= cv.cvtColor(img1, cv.COLOR_BGR2GRAY)\n",
    "# \n",
    "# blank= np.zeros(img1.shape[:2], dtype='uint8')\n",
    "# mask= cv.circle(blank, (img1.shape[1]//2, img1.shape[0]//2), 100, 255, -1 )\n",
    "# masked= cv.bitwise_and(gimg1, gimg1, mask=mask)\n",
    "# cv.imshow(\"Masked\", mask)\n",
    "# \n",
    "# hist= cv.calcHist([gimg1], [0], masked, [255], [0,256] )\n",
    "# \n",
    "# plt.figure()\n",
    "# plt.title('Histogram')\n",
    "# plt.xlabel('Intensity'); plt.ylabel('Frequency')\n",
    "# plt.plot(hist)\n",
    "# plt.xlim([0,255])\n",
    "# plt.show()\n",
    "# \n",
    "# ky= cv.waitKey(0) & 0XFF\n",
    "# if(ky==ord('\\x1b')):\n",
    "  # cv.destroyAllWindows()"
   ]
  },
  {
   "cell_type": "markdown",
   "metadata": {},
   "source": [
    "### Thresholding"
   ]
  },
  {
   "cell_type": "markdown",
   "metadata": {},
   "source": [
    "- #### It is binarisation of an image[converting to a binary image] i.e. either the pixel value is 0/255. \n",
    "\n",
    "- #### In this, we take a threhold value and check for each pixel value if it greater than this threshold value/not and changing them 0/255."
   ]
  },
  {
   "cell_type": "code",
   "execution_count": 3,
   "metadata": {},
   "outputs": [],
   "source": [
    "img1= cv.imread('data/Photos/cat.jpg')\n",
    "# cv.imshow(\"Org\", img1)\n",
    "\n",
    "gimg1= cv.cvtColor(img1, cv.COLOR_BGR2GRAY)\n",
    "cv.imshow(\"Gray image\", gimg1)\n",
    "\n",
    "\"\"\" Simple Thresholding  \"\"\"\n",
    "threshold, thrimg= cv.threshold(gimg1, 150, 255, cv.THRESH_BINARY)\n",
    "cv.imshow(\"Simple Threshold\",thrimg)\n",
    "\n",
    "\"\"\" Inverse Thresholding: Values greater than threshold are set to 0 \"\"\"\n",
    "threshold, invthrimg= cv.threshold(gimg1, 150, 255, cv.THRESH_BINARY_INV)\n",
    "cv.imshow(\"Inverse Threshold\",invthrimg)\n",
    "\n",
    "\"\"\" Adaptive Thresholding: Computer finds out optimal threshold value \"\"\"\n",
    "adpthrimg= cv.adaptiveThreshold(gimg1, 255, cv.ADAPTIVE_THRESH_GAUSSIAN_C, cv.THRESH_BINARY, 11, 2.5 )\n",
    "cv.imshow(\"Adaptive thresholding\", adpthrimg)\n",
    "\n",
    "adpthrimg= cv.adaptiveThreshold(gimg1, 255, cv.ADAPTIVE_THRESH_MEAN_C, cv.THRESH_BINARY_INV, 21, 2.5)\n",
    "# cv.imshow(\"Adaptive Inverse thresholding\", adpthrimg)\n",
    "\n",
    "ky= cv.waitKey(0) & 0XFF\n",
    "if(ky==ord('\\x1b')):\n",
    "  cv.destroyAllWindows()"
   ]
  },
  {
   "cell_type": "markdown",
   "metadata": {},
   "source": [
    "### Gradients and Edge detection"
   ]
  },
  {
   "cell_type": "markdown",
   "metadata": {},
   "source": [
    "- #### Gradient and Edges are different mathematically but can be considered same in programming.\n",
    "\n",
    "- #### Apart from Canny, there are other methods to get edges:\n",
    "  - _Laplacian_: It looks like the original image is smudged over by a pencil.\n",
    "    - It calculates the gradients in the image.\n",
    "    - Ther\n",
    "  \n",
    "  - _Sobel_: It computes the gradients in x and y directions\n",
    "    -    \n",
    "\n",
    "- ####\n",
    "- ####\n"
   ]
  },
  {
   "cell_type": "code",
   "execution_count": 5,
   "metadata": {},
   "outputs": [],
   "source": [
    "# img1= cv.imread('data/Photos/cats.jpg')\n",
    "# cv.imshow(\"Org\", img1)\n",
    "\n",
    "# gimg1= cv.cvtColor(img1, cv.COLOR_BGR2GRAY)\n",
    "\n",
    "\"\"\" Laplacian  \"\"\"\n",
    "# lap= cv.Laplacian( gimg1, cv.CV_64F )\n",
    "# lap= np.uint8(np.absolute(lap))\n",
    "# cv.imshow(\"Laplacian\", lap)\n",
    "# \n",
    "\"\"\" Sobel  \"\"\"\n",
    "# sobelx= cv.Sobel(gimg1, cv.CV_64F, 1, 0)\n",
    "# sobely= cv.Sobel(gimg1, cv.CV_64F, 0, 1)\n",
    "# cv.imshow(\"Sobel X\", sobelx)\n",
    "# cv.imshow(\"Sobel Y\", sobely)\n",
    "# combs= cv.bitwise_or(sobelx, sobely)\n",
    "# cv.imshow(\"combined\", combs)\n",
    "\n",
    "\"\"\" Canny: One of its stage uses Sobel\"\"\"\n",
    "# Canny= cv.Canny(gimg1, 150,175)\n",
    "# cv.imshow(\"Canny\", Canny)\n",
    "\n",
    "# ky= cv.waitKey(0) & 0XFF\n",
    "# if(ky==ord('\\x1b')):\n",
    "  # cv.destroyAllWindows()"
   ]
  },
  {
   "cell_type": "markdown",
   "metadata": {},
   "source": [
    "### Face Detection"
   ]
  },
  {
   "cell_type": "markdown",
   "metadata": {},
   "source": [
    "- #### Face detection only involves the presence of face in an image(recognition means identifying whose face is in that image.)\n",
    "\n",
    "- #### Two main pre-trained classifier are haarcascades and more advanced, Local Binary Patterns.\n",
    "\n",
    "- #### Haarcascade frontal classifier is taken from [openCV repository](https://github.com/opencv/opencv/blob/4.x/data/haarcascades/)"
   ]
  },
  {
   "cell_type": "code",
   "execution_count": 7,
   "metadata": {},
   "outputs": [
    {
     "name": "stdout",
     "output_type": "stream",
     "text": [
      "Number of faces found: 19\n"
     ]
    }
   ],
   "source": [
    "# pers= cv.imread('data/Photos/group 1.jpg')\n",
    "# gpers= cv.cvtColor(pers, cv.COLOR_BGR2GRAY)\n",
    "# cv.imshow(\"Person\", gpers)\n",
    "\n",
    "# haar_cas= cv.CascadeClassifier('haar_frontalface.xml')\n",
    "\n",
    "# faces_rect= haar_cas.detectMultiScale(gpers, scaleFactor=1.1, minNeighbors=1)   # Returns rectangular coordinates as a list, by minimizing the minNeighbors we are makign our classifier more prone to noise.\n",
    "# print(f\"Number of faces found: {len(faces_rect)}\")\n",
    "\n",
    "# faces= []\n",
    "# for (x,y,w,h) in faces_rect:\n",
    "  # cv.rectangle(  pers, (x,y), (x+w,y+h), (0,255,0), thickness=2)\n",
    "\n",
    "# cv.imshow(\"Detected\",pers)\n",
    "\n",
    "# ky= cv.waitKey(0) & 0XFF\n",
    "# if(ky==ord('\\x1b')):\n",
    "  # cv.destroyAllWindows()"
   ]
  },
  {
   "cell_type": "markdown",
   "metadata": {},
   "source": [
    "### Face Recognizer"
   ]
  },
  {
   "cell_type": "markdown",
   "metadata": {},
   "source": []
  },
  {
   "cell_type": "code",
   "execution_count": 3,
   "metadata": {},
   "outputs": [],
   "source": [
    "dir='data/Faces/train'\n",
    "people= []\n",
    "\n",
    "for i in os.listdir(dir):\n",
    "  people.append(i)\n",
    "\n",
    "haar_cas= cv.CascadeClassifier( 'data/haar_classifiers/haar_frontalface.xml' )\n",
    "\n",
    "features= []; labels= [ ]\n",
    "def create_train():\n",
    "\n",
    "  for per in people:\n",
    "\n",
    "    path= os.path.join(dir, per)\n",
    "    label= people.index(per)    # Returns the first position at which per is found in people\n",
    "\n",
    "    for imgp in os.listdir( path ):\n",
    "\n",
    "      imgpath= os.path.join(path, imgp)\n",
    "      image1= cv.imread( imgpath )\n",
    "      gimg1= cv.cvtColor( image1, cv.COLOR_BGR2GRAY )\n",
    "\n",
    "      faces_rect= haar_cas.detectMultiScale(gimg1, scaleFactor=1.1, minNeighbors=4 )\n",
    "\n",
    "      for (x,y,w,h) in faces_rect:\n",
    "\n",
    "        faces_roi= gimg1[y:y+h,x:x+w]\n",
    "        features.append( faces_roi ); labels.append(label)\n",
    "\n",
    "create_train()\n",
    "\n",
    "features= np.array(features, dtype='object')\n",
    "labels= np.array( labels )\n",
    "\n",
    "facerecognizer= cv.face.LBPHFaceRecognizer_create()\n",
    "\n",
    "# Training the recognizer\n",
    "facerecognizer.train( features, labels )\n",
    "\n",
    "# Saving all the information\n",
    "facerecognizer.save('face_trained.yml')\n",
    "np.save('features.npy', features, allow_pickle=True)\n",
    "np.save('labels.npy', labels, allow_pickle=True )\n",
    "\n",
    "ky= cv.waitKey(0) & 0XFF\n",
    "if(ky==ord('\\x1b')):\n",
    "  cv.destroyAllWindows()"
   ]
  },
  {
   "cell_type": "code",
   "execution_count": 4,
   "metadata": {},
   "outputs": [
    {
     "name": "stderr",
     "output_type": "stream",
     "text": [
      "Warning: Ignoring XDG_SESSION_TYPE=wayland on Gnome. Use QT_QPA_PLATFORM=wayland to run on Wayland anyway.\n"
     ]
    },
    {
     "name": "stdout",
     "output_type": "stream",
     "text": [
      "Label=Elton John with Confidence=67.00856809674691\n"
     ]
    }
   ],
   "source": [
    "# Initializing the classifier from the xml file\n",
    "haar_cascade= cv.CascadeClassifier('haar_frontalface.xml')\n",
    "\n",
    "# Loading features and labels\n",
    "features= np.load('features.npy', allow_pickle=True)\n",
    "labels= np.load('labels.npy', allow_pickle=True )\n",
    "\n",
    "# Reading the training data\n",
    "faceRecognizer= cv.face.LBPHFaceRecognizer_create()\n",
    "faceRecognizer.read('face_trained.yml')\n",
    "\n",
    "test_img= cv.imread('data/Faces/val/elton_john/1.jpg')\n",
    "gtest_img= cv.cvtColor(test_img, cv.COLOR_BGR2GRAY )\n",
    "cv.imshow('Person', gtest_img)\n",
    "\n",
    "# Detect the face in the image\n",
    "faces_rect= haar_cascade.detectMultiScale(gtest_img, scaleFactor=1.1, minNeighbors=4)\n",
    "for (x,y,w,h) in faces_rect:\n",
    "  \n",
    "  face_roi= gtest_img[y:y+h,x:x+h]\n",
    "  \n",
    "  label, confidence= faceRecognizer.predict(face_roi)\n",
    "  print(f\"Label={people[label]} with Confidence={confidence}\")\n",
    "\n",
    "  cv.putText(test_img, str(people[label]), (20,20), cv.FONT_HERSHEY_COMPLEX, 1.0, (0,0,255), thickness=2 )\n",
    "  cv.rectangle( test_img, (x,y), (x+w,y+h), (0,0,255), thickness=2 )\n",
    "\n",
    "cv.imshow(\"Final Result\", test_img)\n",
    "\n",
    "ky= cv.waitKey(0) & 0XFF\n",
    "if(  ky==ord('\\x1b') ):\n",
    "  cv.destroyAllWindows()"
   ]
  }
 ],
 "metadata": {
  "kernelspec": {
   "display_name": "pyvenv",
   "language": "python",
   "name": "python3"
  },
  "language_info": {
   "codemirror_mode": {
    "name": "ipython",
    "version": 3
   },
   "file_extension": ".py",
   "mimetype": "text/x-python",
   "name": "python",
   "nbconvert_exporter": "python",
   "pygments_lexer": "ipython3",
   "version": "3.12.2"
  }
 },
 "nbformat": 4,
 "nbformat_minor": 2
}
