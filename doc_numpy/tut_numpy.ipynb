{
 "cells": [
  {
   "cell_type": "markdown",
   "metadata": {},
   "source": [
    "# Numpy:"
   ]
  },
  {
   "cell_type": "markdown",
   "metadata": {},
   "source": [
    "## Arrays"
   ]
  },
  {
   "cell_type": "markdown",
   "metadata": {},
   "source": [
    "- ##### It is a data structure ndarray and it has which makes working with it very easy and it is highy used for doing fast numerical computations.\n",
    "- ##### Numpy arrays can only have one data type."
   ]
  },
  {
   "cell_type": "code",
   "execution_count": 1,
   "metadata": {},
   "outputs": [],
   "source": [
    "import numpy as np"
   ]
  },
  {
   "cell_type": "markdown",
   "metadata": {},
   "source": [
    "#### General infomation about array"
   ]
  },
  {
   "cell_type": "code",
   "execution_count": 28,
   "metadata": {},
   "outputs": [
    {
     "name": "stdout",
     "output_type": "stream",
     "text": [
      "- This is the numpy array:\n",
      "\t[1 2 3 4 5]\n",
      "\n",
      "- The dimensions, shape and data type for the array given below are 2, (2, 3) , float32.\n",
      "[[1. 2. 3.]\n",
      " [4. 5. 6.]]\n",
      "\n",
      "- Adding any number directly to the array variable adds it to every element of the array.\n",
      "\t[3 4 5 6 7]\n",
      "\n",
      "- Multiplying any number directly to the array variable multiplies it to every element of the array.\n",
      "\t[ 2  4  6  8 10]\n",
      "\n"
     ]
    }
   ],
   "source": [
    "# Declaration of array can be done in many ways: it can be directly initialised as a numpy arrat or a normal list can be converted to the numpy array.\n",
    "arr1=np.array([1,2,3,4,5])\n",
    "print(f\"- This is the numpy array:\\n\\t{arr1}\",end=\"\\n\\n\")\n",
    "\n",
    "# We can also declare the dtype for the array created and display the different features of the array such as dimensions, shape and data type.\n",
    "arr1_dec=np.array([[1,2,3],[4,5,6]], dtype=np.float32)\n",
    "print(f\"- The dimensions, shape and data type for the array given below are {arr1_dec.ndim}, {arr1_dec.shape} , {arr1_dec.dtype}.\\n{arr1_dec}\",end=\"\\n\\n\")\n",
    "\n",
    "new_arr2=np.array([[1,2,3],[4,5,6]], dtype=np.float32)\n",
    "\n",
    "# The below are the examples of the concept called Broadcasting.\n",
    "arr2 = arr1 + 2\n",
    "print(f\"- Adding any number directly to the array variable adds it to every element of the array.\\n\\t{arr2}\",end=\"\\n\\n\")\n",
    "\n",
    "arr3 = arr1 * 2\n",
    "print(f\"- Multiplying any number directly to the array variable multiplies it to every element of the array.\\n\\t{arr3}\",end=\"\\n\\n\")"
   ]
  },
  {
   "cell_type": "markdown",
   "metadata": {},
   "source": [
    "A similar function to the ones function above is the zeroes function which returns an ndarray containing zeroes."
   ]
  },
  {
   "cell_type": "code",
   "execution_count": 6,
   "metadata": {},
   "outputs": [
    {
     "name": "stdout",
     "output_type": "stream",
     "text": [
      "[1559 1560 1561 1562]\n"
     ]
    }
   ],
   "source": [
    "arr3=np.arange(1559,1563)\n",
    "print(arr3)"
   ]
  },
  {
   "cell_type": "markdown",
   "metadata": {},
   "source": [
    "np.arrange creates an one-dimensional array b\\w the given numbers."
   ]
  },
  {
   "cell_type": "code",
   "execution_count": 14,
   "metadata": {},
   "outputs": [
    {
     "name": "stdout",
     "output_type": "stream",
     "text": [
      "[[1.2 2.2 3.2]\n",
      " [4.2 5.2 6.2]\n",
      " [7.2 8.2 9.2]]\n",
      "[[1 2 3]\n",
      " [4 5 6]\n",
      " [7 8 9]]\n"
     ]
    }
   ],
   "source": [
    "new=np.array([[1.2,2.2,3.2],[4.2,5.2,6.2],[7.2,8.2,9.2]], dtype=np.float32)\n",
    "print(new)\n",
    "print(new.astype(np.uint16))"
   ]
  },
  {
   "cell_type": "code",
   "execution_count": 22,
   "metadata": {},
   "outputs": [
    {
     "name": "stdout",
     "output_type": "stream",
     "text": [
      "[[[0. 0. 0.]\n",
      "  [0. 0. 0.]]\n",
      "\n",
      " [[0. 0. 0.]\n",
      "  [0. 0. 0.]]]\n"
     ]
    }
   ],
   "source": [
    "a=np.ones((2,2,3))\n",
    "b=np.zeros_like(a)\n",
    "print(b)"
   ]
  },
  {
   "cell_type": "code",
   "execution_count": 26,
   "metadata": {},
   "outputs": [
    {
     "name": "stdout",
     "output_type": "stream",
     "text": [
      "[[85.92986301 16.61643431  4.19352348 29.10275078]\n",
      " [93.60219756 69.96160099 75.10390112 62.90139152]\n",
      " [23.51649442 42.99395027 42.46942849 29.2471812 ]\n",
      " [76.91292278 59.27135069 26.08847885 92.0627941 ]]\n"
     ]
    }
   ],
   "source": [
    "arr90=np.random.random((4,4))\n",
    "arr90*=100\n",
    "print(arr90)"
   ]
  },
  {
   "cell_type": "code",
   "execution_count": 27,
   "metadata": {},
   "outputs": [
    {
     "name": "stdout",
     "output_type": "stream",
     "text": [
      "<class 'numpy.ndarray'>\n",
      "[[1. 1. 1. 1. 1. 1. 1. 1.]\n",
      " [1. 1. 1. 1. 1. 1. 1. 1.]\n",
      " [1. 1. 1. 1. 1. 1. 1. 1.]\n",
      " [1. 1. 1. 1. 1. 1. 1. 1.]\n",
      " [1. 1. 1. 1. 1. 1. 1. 1.]\n",
      " [1. 1. 1. 1. 1. 1. 1. 1.]\n",
      " [1. 1. 1. 1. 1. 1. 1. 1.]]\n"
     ]
    }
   ],
   "source": [
    "temp2=np.ones([7,8])\n",
    "print(type(temp2))\n",
    "print(temp2)"
   ]
  },
  {
   "cell_type": "code",
   "execution_count": 28,
   "metadata": {},
   "outputs": [
    {
     "name": "stdout",
     "output_type": "stream",
     "text": [
      "[[ 2  4  6]\n",
      " [ 5  7  9]\n",
      " [ 8 10 12]]\n"
     ]
    }
   ],
   "source": [
    "arr45=np.array([1,2,3])\n",
    "arr46=np.array([[1,2,3],[4,5,6],[7,8,9]])\n",
    "arr47=arr45+arr46\n",
    "print(arr47)"
   ]
  },
  {
   "cell_type": "markdown",
   "metadata": {},
   "source": [
    "SHAPING:\n"
   ]
  },
  {
   "cell_type": "code",
   "execution_count": 31,
   "metadata": {},
   "outputs": [
    {
     "name": "stdout",
     "output_type": "stream",
     "text": [
      "[[1 2]\n",
      " [3 5]\n",
      " [4 6]]\n",
      "[[1 2 3]\n",
      " [5 4 6]]\n",
      "[1 2 3 5 4 6]\n"
     ]
    }
   ],
   "source": [
    "arr48=np.array([1,2,3,5,4,6])\n",
    "arr48=arr48.reshape(3,2)\n",
    "print(arr48)\n",
    "arr48=arr48.reshape(2,-1)\n",
    "print(arr48)\n",
    "arr48=arr48.ravel()\n",
    "print(arr48)"
   ]
  },
  {
   "cell_type": "markdown",
   "metadata": {},
   "source": [
    "Total number of elements cannot change.\n",
    "Use -1 to infer axis shape.\n",
    "Row-major by default. Here note the difference that MATLAB is column-major.\n"
   ]
  },
  {
   "cell_type": "code",
   "execution_count": 36,
   "metadata": {},
   "outputs": [
    {
     "name": "stdout",
     "output_type": "stream",
     "text": [
      "[1 2 3]\n",
      "[[ 1  4  9]\n",
      " [ 4 10 18]]\n",
      "[[1.   1.   1.  ]\n",
      " [0.25 0.4  0.5 ]]\n"
     ]
    }
   ],
   "source": [
    "test=[1,2,3]\n",
    "x=np.array(test)\n",
    "print(x)\n",
    "y=np.array([[1,2,3],[4,5,6]])\n",
    "z=x*y\n",
    "print(z)\n",
    "z=x/y\n",
    "print(z)"
   ]
  },
  {
   "cell_type": "markdown",
   "metadata": {},
   "source": [
    "Transposition is a function through which we perform the operation of "
   ]
  },
  {
   "cell_type": "code",
   "execution_count": 39,
   "metadata": {},
   "outputs": [
    {
     "name": "stdout",
     "output_type": "stream",
     "text": [
      "[[[1.         1.41421356]\n",
      "  [1.73205081 2.        ]]\n",
      "\n",
      " [[2.23606798 2.44948974]\n",
      "  [2.64575131 2.82842712]]]\n"
     ]
    }
   ],
   "source": [
    "we=[1,4,9,16,25,36,49,64,81,100]\n",
    "new90=np.array([[[1,2],[3,4]],[[5,6],[7,8]]])\n",
    "new90=np.sqrt(new90)\n",
    "print(new90)"
   ]
  },
  {
   "cell_type": "markdown",
   "metadata": {},
   "source": [
    "Slicing can be done similar to the list slicing."
   ]
  },
  {
   "cell_type": "markdown",
   "metadata": {},
   "source": [
    "### Elements can be added in the dataframe by using the `insert` method\n",
    "```python\n",
    "np.insert( x_train, obj=0, values=1, axis=1 )  # obj: column before which value array is to be inserted; values: values whose column is to be added\n",
    "```"
   ]
  },
  {
   "cell_type": "markdown",
   "metadata": {},
   "source": [
    "## __np.linalg class__"
   ]
  },
  {
   "cell_type": "markdown",
   "metadata": {},
   "source": [
    "`np.linalg.inv`: It finds out the inverse of the matrix"
   ]
  }
 ],
 "metadata": {
  "kernelspec": {
   "display_name": "Python 3",
   "language": "python",
   "name": "python3"
  },
  "language_info": {
   "codemirror_mode": {
    "name": "ipython",
    "version": 3
   },
   "file_extension": ".py",
   "mimetype": "text/x-python",
   "name": "python",
   "nbconvert_exporter": "python",
   "pygments_lexer": "ipython3",
   "version": "3.12.1"
  },
  "orig_nbformat": 4
 },
 "nbformat": 4,
 "nbformat_minor": 2
}
