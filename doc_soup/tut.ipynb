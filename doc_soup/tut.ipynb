{
 "cells": [
  {
   "cell_type": "markdown",
   "metadata": {},
   "source": [
    "# Theory"
   ]
  },
  {
   "cell_type": "markdown",
   "metadata": {},
   "source": [
    "- ### Parsing\n",
    "  - #### `bs4` library has different classes for different page type:\n",
    "    - ##### _BeautifulSoup_ for _HTML_ pages\n",
    "    - ##### _BeautifulStoneSoup_ for _XML_ pages\n",
    "\n",
    "  - #### _BeautifulSoup_ acts as a parser for the HTML and XML pages. __It can even use heristics to figure out the correct parsing for incorrectly parsed document__. With HTML soup does not know sometimes about the self-closing tags.\n",
    "\n",
    "  - #### Only unicode string are stored in the data structure created by soup.\n",
    "\n",
    "  - #### While creating the soup we can also relay that from which encoding are we taking the code.\n",
    "    > soup = BeautifulSoup( site, from_encoding=\"euc-jp\" )\n",
    "\n",
    "  - #### Other options such as turning off smart quotes can be turned off.\n",
    "\n",
    "  - #### A parser object (soup) is a nested, connected data structure corresponding to the structure of an XML/HTML document. The parser object contains two other types of objects: Tag objects, which correspond to tags like the `<TITLE>` tag and the `<B>` tags; and NavigableString objects which correspond to strings like `Page title` and `This is paragraph`. "
   ]
  },
  {
   "cell_type": "markdown",
   "metadata": {},
   "source": [
    "# Code"
   ]
  },
  {
   "cell_type": "code",
   "execution_count": 1,
   "metadata": {},
   "outputs": [],
   "source": [
    "from bs4 import BeautifulSoup \n",
    "import re\n",
    "import requests as rq"
   ]
  },
  {
   "cell_type": "markdown",
   "metadata": {},
   "source": [
    "## Self-made parsing  "
   ]
  },
  {
   "cell_type": "code",
   "execution_count": 2,
   "metadata": {},
   "outputs": [
    {
     "name": "stdout",
     "output_type": "stream",
     "text": [
      "<html>\n",
      " <head>\n",
      "  <title>\n",
      "   TITLE OF THE PAGE\n",
      "  </title>\n",
      " </head>\n",
      " <body>\n",
      "  <div class=\"container\" id=\"main\">\n",
      "   <div class=\"head\" id=\"head1\">\n",
      "    <h1>\n",
      "     #RANDOM_TITLE\n",
      "    </h1>\n",
      "   </div>\n",
      "   <div class=\"info\" id=\"info1\">\n",
      "    <p align=\"center\" class=\"para\" id=\"para1\">\n",
      "     Here is the typical which might be provided in the page about the site\n",
      "     <link href=\"#\" rel=\"icon\" sizes=\"414X414\"/>\n",
      "    </p>\n",
      "    <p class=\"para\" id=\"para2\">\n",
      "     Here is some more info about the site.\n",
      "    </p>\n",
      "   </div>\n",
      "  </div>\n",
      " </body>\n",
      "</html>\n",
      "\n"
     ]
    }
   ],
   "source": [
    "doc=[ '<html><head><title>TITLE OF THE PAGE</title></head>', \n",
    "      '<body> <div class=\"container\" id=\"main\"> <div class=\"head\" id=\"head1\"> <h1>#RANDOM_TITLE</h1> </div> <div class=\"info\" id=\"info1\"> <p class=\"para\" id=\"para1\" align=\"center\">Here is the typical which might be provided in the page about the site <link rel=\"icon\" href=\"#\" sizes=\"414X414\" /> </p>',\n",
    "      '<p class=\"para\" id=\"para2\"> Here is some more info about the site. </p> </div> </div>',\n",
    "      '</html>'\n",
    "]\n",
    "\n",
    "# Parsing the html document\n",
    "self_soup = BeautifulSoup(''.join(doc) )\n",
    "print( self_soup.prettify())"
   ]
  },
  {
   "cell_type": "markdown",
   "metadata": {},
   "source": [
    "## Navigation"
   ]
  },
  {
   "cell_type": "markdown",
   "metadata": {},
   "source": [
    "- #### Generally, the navigating down can be done through 2 ways:\n",
    "  - `soup.#elm_name`  i.e. directly referencing the element's name\n",
    "  - `soup.contents`/`soup.children` i.e. referencing the elements children\n",
    "\n",
    "- #### We can directly use the tag name and add them like this `div.div.a`. This returns the first such tag present and `None` if no such tag is there.\n"
   ]
  },
  {
   "cell_type": "code",
   "execution_count": 15,
   "metadata": {},
   "outputs": [
    {
     "name": "stdout",
     "output_type": "stream",
     "text": [
      "1st div tag:\n",
      "\n",
      "<div class=\"container\" id=\"main\"> <div class=\"head\" id=\"head1\"> <h1>#RANDOM_TITLE</h1> </div> <div class=\"info\" id=\"info1\"> <p align=\"center\" class=\"para\" id=\"para1\">Here is the typical which might be provided in the page about the site <link href=\"#\" rel=\"icon\" sizes=\"414X414\"/> </p><p class=\"para\" id=\"para2\"> Here is some more info about the site. </p> </div> </div>\n",
      "\n",
      "Since there is no <a>, there is None.\n",
      "\n",
      "The contents of the first <div> tag are:\n",
      "[' ', <div class=\"head\" id=\"head1\"> <h1>#RANDOM_TITLE</h1> </div>, ' ', <div class=\"info\" id=\"info1\"> <p align=\"center\" class=\"para\" id=\"para1\">Here is the typical which might be provided in the page about the site <link href=\"#\" rel=\"icon\" sizes=\"414X414\"/> </p><p class=\"para\" id=\"para2\"> Here is some more info about the site. </p> </div>, ' ']\n"
     ]
    }
   ],
   "source": [
    "# Navigating with the help of tags \n",
    "first_div = self_soup.div\n",
    "print( f\"1st div tag:\\n\\n{first_div}\\n\" )\n",
    "\n",
    "first_a = self_soup.a\n",
    "print(f\"Since there is no <a>, there is {first_a}.\", end=\"\\n\\n\")\n",
    "\n",
    "# Navigating with the help of .contents and .children\n",
    "con1 = first_div.contents\n",
    "print(f\"The contents of the first <div> tag are:\\n{con1}\")\n"
   ]
  }
 ],
 "metadata": {
  "kernelspec": {
   "display_name": "Python 3",
   "language": "python",
   "name": "python3"
  },
  "language_info": {
   "codemirror_mode": {
    "name": "ipython",
    "version": 3
   },
   "file_extension": ".py",
   "mimetype": "text/x-python",
   "name": "python",
   "nbconvert_exporter": "python",
   "pygments_lexer": "ipython3",
   "version": "3.12.2"
  }
 },
 "nbformat": 4,
 "nbformat_minor": 2
}
