{
 "cells": [
  {
   "cell_type": "markdown",
   "metadata": {},
   "source": [
    "The above two code lines are necessary."
   ]
  },
  {
   "cell_type": "code",
   "execution_count": 1,
   "metadata": {},
   "outputs": [],
   "source": [
    "import pandas as pd"
   ]
  },
  {
   "cell_type": "markdown",
   "metadata": {},
   "source": [
    "- #### You can also take from any server by the help of requests module.\n",
    "- #### When column name is not defined then we can use the _name_ arguement and pass a list of column names.\n",
    "- #### We can also change the name of the index parameter by using _index_col_\n",
    "- #### _header_ parameter is used to decide which column to use as the index.\n",
    "- #### _use\\_column_ argument is use to select out columns by passing in the names of only the selected columns.\n",
    "- #### _squeeze_ argument makes the dataframe to series if there is only one column.\n",
    "- #### _skiprows_ argument takes in list of rows to be skipped, it can also take in function as the value.\n",
    "- #### _encoding_ argument is used to specify the character encoding, if not it can pass the error `UnicodeDecodeError`.\n",
    "- #### _error\\_bad\\_lines_ is used to specify whether to include bad lines.\n",
    "- #### _dtypes_ parameter can be used to covert some column to a data type, takes in dictionary with (column_name , data_type) s the key.\n",
    "- #### _parse\\_dates_ can be used to give a list of column names to be converted to data format, __Columns can be reduced by combining according to the date format__.\n",
    "- #### _converters_ can be used to transform values of a particular column using some function. It takes in a dictionary with key as column name and value as the function.\n",
    "- #### _na\\_values_ is used to specify what values are to be considered NaN. It takes in a list of values to be considered as NaN.\n",
    "- #### _chunksize_ can be used to specify the number of rows to be put if we want to split a very large dataframe into multiple dataframes.   "
   ]
  },
  {
   "cell_type": "code",
   "execution_count": 2,
   "metadata": {},
   "outputs": [],
   "source": [
    "df=pd.read_csv(\"D:\\\\College\\\\Semester 3\\\\Data_Analytics\\\\LAB work\\\\lab-Data\\\\lab_010923\\\\ny_data.csv\")"
   ]
  },
  {
   "cell_type": "markdown",
   "metadata": {},
   "source": [
    "Q. How will we check the duplicate rows in the dataset?"
   ]
  },
  {
   "cell_type": "markdown",
   "metadata": {},
   "source": [
    "We can check this with the duplicated function which gives a series of boolean values. If a particular row is duplicate, then it gives true for that row else it gives false."
   ]
  },
  {
   "cell_type": "code",
   "execution_count": null,
   "metadata": {},
   "outputs": [],
   "source": [
    "dup_row=df['name'].duplicated()\n",
    "num_dup=dup_row[dup_row==True].sum()\n",
    "num_dup"
   ]
  },
  {
   "cell_type": "markdown",
   "metadata": {},
   "source": [
    "Q. How will be check the null values and change the null values with a particular word, take unknown?"
   ]
  },
  {
   "cell_type": "markdown",
   "metadata": {},
   "source": [
    "We can do this by using isnull function and taking a sum of it. isnull function returns a boolean series of the same size as the original series and then we can apply the sum function.\n",
    "After that we can fill the na values with anything we want by using the fillna function and then filtering out the rows with their column specific value equal to that specific word and taking out its length."
   ]
  },
  {
   "cell_type": "code",
   "execution_count": null,
   "metadata": {},
   "outputs": [],
   "source": [
    "# First we will check for null values and take a count of them.\n",
    "na_row=df['reviews_per_month'].isnull().sum()\n",
    "na_row"
   ]
  },
  {
   "cell_type": "code",
   "execution_count": null,
   "metadata": {},
   "outputs": [],
   "source": [
    "# Now, we can fill a cretain word in place of the na value and find out it's length.\n",
    "df['reviews_per_month'].fillna(\"Unknown\",inplace=True)\n",
    "num_new=df[df['reviews_per_month']==\"Unknown\"]\n",
    "len(num_new)"
   ]
  },
  {
   "cell_type": "markdown",
   "metadata": {},
   "source": [
    "Q. What are the number of unique values for the property id?\n"
   ]
  },
  {
   "cell_type": "markdown",
   "metadata": {},
   "source": [
    "We can use the unique function which returns a ndarray and then we can apply the len function to find out the length of the ndarray."
   ]
  },
  {
   "cell_type": "code",
   "execution_count": null,
   "metadata": {},
   "outputs": [],
   "source": [
    "un_id=df['host_id'].unique()\n",
    "len(un_id)"
   ]
  },
  {
   "cell_type": "markdown",
   "metadata": {},
   "source": [
    "Q. How many properties are owned by david? After that find out how many distinct properties are owned by david."
   ]
  },
  {
   "cell_type": "markdown",
   "metadata": {},
   "source": [
    "We can filter the DataFrame for the name David and then find out the length of the dataframe for finding out the number of properties david owns. After that, we can use the unique function on the obtained dataframe from which we will get a ndarray and we can calculate the length of the ndarray."
   ]
  },
  {
   "cell_type": "code",
   "execution_count": null,
   "metadata": {},
   "outputs": [],
   "source": [
    "# We simply filter out the rows corresponding to the name david and take out the length of the DataFrame obtained from the previous operations.\n",
    "dav=df[df['host_name']==\"David\"]\n",
    "len(dav)"
   ]
  },
  {
   "cell_type": "code",
   "execution_count": null,
   "metadata": {},
   "outputs": [],
   "source": [
    "dav=df[df['host_name']==\"David\"]\n",
    "num_dis=dav['name'].unique()\n",
    "len(num_dis)"
   ]
  },
  {
   "cell_type": "markdown",
   "metadata": {},
   "source": [
    "Q. Find out the details for which property name and host name are same.\n"
   ]
  },
  {
   "cell_type": "markdown",
   "metadata": {},
   "source": [
    "Simply, we can filter the dataframe to find out the rows for which host name is equal to the property name."
   ]
  },
  {
   "cell_type": "code",
   "execution_count": null,
   "metadata": {},
   "outputs": [],
   "source": [
    "prop=df[df['host_name']==df['name']]\n",
    "prop"
   ]
  },
  {
   "cell_type": "markdown",
   "metadata": {},
   "source": [
    "Q. Find out the details where the same host have hosted different property in any neighbourhood in the same neighbourhood groups."
   ]
  },
  {
   "cell_type": "markdown",
   "metadata": {},
   "source": [
    "Here, we can use the groupby function to group the DataFrame according to the neighbour_group and host_name. After that we can use the get_group function to get the groups corresponding to the specific users."
   ]
  },
  {
   "cell_type": "code",
   "execution_count": null,
   "metadata": {},
   "outputs": [],
   "source": [
    "sm=df.groupby(by=['neighbourhood_group','host_name'])\n",
    "temp=sm.get_group(('Bronx','Aaron'))\n",
    "temp"
   ]
  }
 ],
 "metadata": {
  "kernelspec": {
   "display_name": "Python 3",
   "language": "python",
   "name": "python3"
  },
  "language_info": {
   "codemirror_mode": {
    "name": "ipython",
    "version": 3
   },
   "file_extension": ".py",
   "mimetype": "text/x-python",
   "name": "python",
   "nbconvert_exporter": "python",
   "pygments_lexer": "ipython3",
   "version": "3.11.4"
  },
  "orig_nbformat": 4
 },
 "nbformat": 4,
 "nbformat_minor": 2
}
