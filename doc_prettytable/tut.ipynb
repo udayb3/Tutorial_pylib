{
 "cells": [
  {
   "cell_type": "markdown",
   "metadata": {},
   "source": [
    "## Prettytable"
   ]
  },
  {
   "cell_type": "markdown",
   "metadata": {},
   "source": [
    "### Creating the Prettytable : Prefer to use only one approach to add data to the prettytable \n",
    "---\n",
    "- First we create a Prettytable object by adding `Prettytable( #Column names )`. It takes as input the name of the columns.\n",
    "- There are 2 methods for adding rows to the Prettytable.\n",
    "  - `add_row()` : Input is the list of the values to be entered as a row.\n",
    "  - `add_rows()` : Input is the list of list where each list is the values of a row.\n",
    "- There is a method for adding the column to the Prettytable.\n",
    "  - `add_column()`: Input is the field name, list of values, values for vertical and horizontal alignment."
   ]
  },
  {
   "cell_type": "markdown",
   "metadata": {},
   "source": [
    "### Creating Prettytable and Adding rows to the Prettytable."
   ]
  },
  {
   "cell_type": "code",
   "execution_count": 10,
   "metadata": {},
   "outputs": [
    {
     "data": {
      "text/html": [
       "<table>\n",
       "    <thead>\n",
       "        <tr>\n",
       "            <th>Name</th>\n",
       "            <th>Genre</th>\n",
       "            <th>Studios</th>\n",
       "            <th>Protagonist</th>\n",
       "        </tr>\n",
       "    </thead>\n",
       "    <tbody>\n",
       "        <tr>\n",
       "            <td>Naruto</td>\n",
       "            <td>Adventure</td>\n",
       "            <td>Pierrot</td>\n",
       "            <td>Naruto</td>\n",
       "        </tr>\n",
       "        <tr>\n",
       "            <td>One Piece</td>\n",
       "            <td>Adventure</td>\n",
       "            <td>Toei</td>\n",
       "            <td>Luffy</td>\n",
       "        </tr>\n",
       "        <tr>\n",
       "            <td>Psycho Pass</td>\n",
       "            <td>Action-Thriller</td>\n",
       "            <td>Production I.G.</td>\n",
       "            <td>Mika</td>\n",
       "        </tr>\n",
       "    </tbody>\n",
       "</table>"
      ],
      "text/plain": [
       "+-------------+-----------------+-----------------+-------------+\n",
       "|     Name    |      Genre      |     Studios     | Protagonist |\n",
       "+-------------+-----------------+-----------------+-------------+\n",
       "|    Naruto   |    Adventure    |     Pierrot     |    Naruto   |\n",
       "|  One Piece  |    Adventure    |       Toei      |    Luffy    |\n",
       "| Psycho Pass | Action-Thriller | Production I.G. |     Mika    |\n",
       "+-------------+-----------------+-----------------+-------------+"
      ]
     },
     "execution_count": 10,
     "metadata": {},
     "output_type": "execute_result"
    }
   ],
   "source": [
    "from prettytable import PrettyTable as pt\n",
    "\n",
    "x= pt([\"Name\",\"Genre\",\"Studios\",\"Protagonist\"])\n",
    "x.add_rows(\n",
    "  [\n",
    "    ['Naruto','Adventure','Pierrot','Naruto'],\n",
    "    ['One Piece','Adventure','Toei','Luffy'],\n",
    "    ['Psycho Pass','Action-Thriller','Production I.G.','Mika']\n",
    "  ] )\n",
    "x"
   ]
  },
  {
   "cell_type": "markdown",
   "metadata": {},
   "source": [
    "### Adding Columns to the Prettytable\n",
    "---\n",
    "- It takes as input the field name/column name and the horizontal and vertical alignment values."
   ]
  },
  {
   "cell_type": "code",
   "execution_count": 12,
   "metadata": {},
   "outputs": [
    {
     "data": {
      "text/html": [
       "<table>\n",
       "    <thead>\n",
       "        <tr>\n",
       "            <th>Name</th>\n",
       "        </tr>\n",
       "    </thead>\n",
       "    <tbody>\n",
       "        <tr>\n",
       "            <td>Jules Verne</td>\n",
       "        </tr>\n",
       "        <tr>\n",
       "            <td>Mark Twain</td>\n",
       "        </tr>\n",
       "        <tr>\n",
       "            <td>Sachidananda Vatsyayan</td>\n",
       "        </tr>\n",
       "    </tbody>\n",
       "</table>"
      ],
      "text/plain": [
       "+------------------------+\n",
       "|          Name          |\n",
       "+------------------------+\n",
       "|      Jules Verne       |\n",
       "|       Mark Twain       |\n",
       "| Sachidananda Vatsyayan |\n",
       "+------------------------+"
      ]
     },
     "execution_count": 12,
     "metadata": {},
     "output_type": "execute_result"
    }
   ],
   "source": [
    "x = pt([])\n",
    "x.add_column( 'Name',['Jules Verne','Mark Twain','Sachidananda Vatsyayan'] , align='c' )\n",
    "x"
   ]
  },
  {
   "cell_type": "markdown",
   "metadata": {},
   "source": [
    "### Importing data\n",
    "  - The data can be imported directly with the help of file opening and using the `from_csv` method of the prettytable module."
   ]
  },
  {
   "cell_type": "markdown",
   "metadata": {},
   "source": [
    "### Styling the table\n",
    "---\n",
    "- We can also use different styles of printing the table. There are 3 styles available for this task.\n",
    "  - Default: ASCII\n",
    "  - MS word form\n",
    "  - simple string form\n"
   ]
  }
 ],
 "metadata": {
  "kernelspec": {
   "display_name": "Python 3",
   "language": "python",
   "name": "python3"
  },
  "language_info": {
   "codemirror_mode": {
    "name": "ipython",
    "version": 3
   },
   "file_extension": ".py",
   "mimetype": "text/x-python",
   "name": "python",
   "nbconvert_exporter": "python",
   "pygments_lexer": "ipython3",
   "version": "3.11.6"
  }
 },
 "nbformat": 4,
 "nbformat_minor": 2
}
