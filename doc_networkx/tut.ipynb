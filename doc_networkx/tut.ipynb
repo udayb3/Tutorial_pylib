{
 "cells": [
  {
   "cell_type": "markdown",
   "metadata": {},
   "source": [
    "- ## Undirected Graph\n",
    "\n",
    "  - ### Node attributes can be passed in the tuple with the first element as the node identifier and the second element as the node properties in the form of a dictionary.\n",
    "  - ### Initialisation\n",
    "    - `nx.Graph()`\n",
    "\n",
    "  - ### Undirected graph has the following functions\n",
    "    - `G.add_node()`\n",
    "    - `G.add_nodes_from()`"
   ]
  },
  {
   "cell_type": "code",
   "execution_count": 19,
   "metadata": {},
   "outputs": [],
   "source": [
    "import networkx as nx\n",
    "\n",
    "uwG=nx.Graph()\n",
    "uwG.add_nodes_from([ \n",
    "  (1,{'color':'red'}) \n",
    "])\n"
   ]
  }
 ],
 "metadata": {
  "kernelspec": {
   "display_name": "Python 3",
   "language": "python",
   "name": "python3"
  },
  "language_info": {
   "codemirror_mode": {
    "name": "ipython",
    "version": 3
   },
   "file_extension": ".py",
   "mimetype": "text/x-python",
   "name": "python",
   "nbconvert_exporter": "python",
   "pygments_lexer": "ipython3",
   "version": "3.12.1"
  }
 },
 "nbformat": 4,
 "nbformat_minor": 2
}
